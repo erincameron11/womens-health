{
 "cells": [
  {
   "cell_type": "markdown",
   "metadata": {},
   "source": [
    "# Dataset Cleaning & Exploration   \n",
    "\n",
    "_Erin Cameron   \n",
    "2024-04-09_"
   ]
  },
  {
   "cell_type": "markdown",
   "metadata": {},
   "source": [
    "## 1.0) Set up"
   ]
  },
  {
   "cell_type": "code",
   "execution_count": 107,
   "metadata": {},
   "outputs": [],
   "source": [
    "# Installations\n"
   ]
  },
  {
   "cell_type": "code",
   "execution_count": 141,
   "metadata": {},
   "outputs": [],
   "source": [
    "# Perform import statements\n",
    "import pandas as pd\n",
    "import matplotlib.pyplot as plt\n",
    "import numpy as np"
   ]
  },
  {
   "cell_type": "markdown",
   "metadata": {},
   "source": [
    "## 2) Load & Format Data"
   ]
  },
  {
   "cell_type": "code",
   "execution_count": 142,
   "metadata": {},
   "outputs": [
    {
     "name": "stdout",
     "output_type": "stream",
     "text": [
      "Loading...\n",
      "Load complete!\n"
     ]
    }
   ],
   "source": [
    "print(\"Loading...\")\n",
    "data = pd.read_csv(\"../data/FedCycleData071012.csv\")\n",
    "print(\"Load complete!\")"
   ]
  },
  {
   "cell_type": "code",
   "execution_count": 143,
   "metadata": {},
   "outputs": [
    {
     "name": "stdout",
     "output_type": "stream",
     "text": [
      "Dataset size: (1665, 80)\n"
     ]
    }
   ],
   "source": [
    "# Display the dataset size\n",
    "print(\"Dataset size: \" + str(data.shape)) "
   ]
  },
  {
   "cell_type": "code",
   "execution_count": 144,
   "metadata": {},
   "outputs": [
    {
     "name": "stdout",
     "output_type": "stream",
     "text": [
      "['ClientID', 'CycleNumber', 'Group', 'CycleWithPeakorNot', 'ReproductiveCategory', 'LengthofCycle', 'MeanCycleLength', 'EstimatedDayofOvulation', 'LengthofLutealPhase', 'FirstDayofHigh', 'TotalNumberofHighDays', 'TotalHighPostPeak', 'TotalNumberofPeakDays', 'TotalDaysofFertility', 'TotalFertilityFormula', 'LengthofMenses', 'MeanMensesLength', 'MensesScoreDayOne', 'MensesScoreDayTwo', 'MensesScoreDayThree', 'MensesScoreDayFour', 'MensesScoreDayFive', 'MensesScoreDaySix', 'MensesScoreDaySeven', 'MensesScoreDayEight', 'MensesScoreDayNine', 'MensesScoreDayTen', 'MensesScoreDay11', 'MensesScoreDay12', 'MensesScoreDay13', 'MensesScoreDay14', 'MensesScoreDay15', 'TotalMensesScore', 'MeanBleedingIntensity', 'NumberofDaysofIntercourse', 'IntercourseInFertileWindow', 'UnusualBleeding', 'PhasesBleeding', 'IntercourseDuringUnusBleed', 'Age', 'AgeM', 'Maristatus', 'MaristatusM', 'Yearsmarried', 'Wedding', 'Religion', 'ReligionM', 'Ethnicity', 'EthnicityM', 'Schoolyears', 'SchoolyearsM', 'OccupationM', 'IncomeM', 'Height', 'Weight', 'Reprocate', 'Numberpreg', 'Livingkids', 'Miscarriages', 'Abortions', 'Medvits', 'Medvitexplain', 'Gynosurgeries', 'LivingkidsM', 'Boys', 'Girls', 'MedvitsM', 'MedvitexplainM', 'Urosurgeries', 'Breastfeeding', 'Method', 'Prevmethod', 'Methoddate', 'Whychart', 'Nextpreg', 'NextpregM', 'Spousesame', 'SpousesameM', 'Timeattemptpreg', 'BMI']\n"
     ]
    }
   ],
   "source": [
    "print(data.columns.tolist()) # Display the columns"
   ]
  },
  {
   "cell_type": "code",
   "execution_count": 145,
   "metadata": {},
   "outputs": [
    {
     "name": "stdout",
     "output_type": "stream",
     "text": [
      "  ClientID  CycleNumber  Group  CycleWithPeakorNot  ReproductiveCategory  \\\n",
      "0  nfp8122            1      0                   1                     0   \n",
      "1  nfp8122            2      0                   1                     0   \n",
      "2  nfp8122            3      0                   1                     0   \n",
      "3  nfp8122            4      0                   1                     0   \n",
      "4  nfp8122            5      0                   1                     0   \n",
      "\n",
      "   LengthofCycle MeanCycleLength EstimatedDayofOvulation LengthofLutealPhase  \\\n",
      "0             29           27.33                      17                  12   \n",
      "1             27                                      15                  12   \n",
      "2             29                                      15                  14   \n",
      "3             27                                      15                  12   \n",
      "4             28                                      16                  12   \n",
      "\n",
      "  FirstDayofHigh  ... Method Prevmethod Methoddate Whychart Nextpreg  \\\n",
      "0             12  ...      9                              2        7   \n",
      "1             13  ...                                                  \n",
      "2                 ...                                                  \n",
      "3             13  ...                                                  \n",
      "4             12  ...                                                  \n",
      "\n",
      "  NextpregM Spousesame SpousesameM Timeattemptpreg              BMI  \n",
      "0         7          1           1               0  21.254724111867  \n",
      "1                                                                    \n",
      "2                                                                    \n",
      "3                                                                    \n",
      "4                                                                    \n",
      "\n",
      "[5 rows x 80 columns]\n"
     ]
    }
   ],
   "source": [
    "print(data.head()) # Display the head of the data"
   ]
  },
  {
   "cell_type": "markdown",
   "metadata": {},
   "source": [
    "## 3.0) Data Exploration\n",
    "\n",
    "_I am interested in using menstrual cycle data to predict if a woman suffers from miscarriages or not. Here, I will explore the nature of the binary class I am trying to predict (column \"Miscarriages\" in the data frame) and how this class relates to other data categories._"
   ]
  },
  {
   "cell_type": "markdown",
   "metadata": {},
   "source": [
    "### 3.1) Exploring the `LengthofMenses` variable\n",
    "\n",
    "_In my dataset of 1665 data points the LengthofMenses was:_\n",
    "* _21/1665 (~1.26%) were 2 days._\n",
    "* _63/1665 (~3.78%) were 3 days._\n",
    "* _346/1665 (~20.78%) were 4 days._\n",
    "* _629/1665 (~37.78%) were 5 days._\n",
    "* _380/1665 (~22.82%) were 6 days._\n",
    "* _155/1665 (~9.31%) were 7 days._\n",
    "* _41/1665 (~2.46%) were 8 days._\n",
    "* _20/1665 (~1.20%) were 9 days._\n",
    "* _4/1665 (~0.24%) were 10 days._\n",
    "* _1/1665 (~0.06%) were 11 days._\n",
    "* _1/1665 (~0.06%) were 15 days._\n",
    "\n",
    "_Using the isna() function and further methods, it is determined there are 4 missing values in the column that were removed from the study._"
   ]
  },
  {
   "cell_type": "code",
   "execution_count": 146,
   "metadata": {},
   "outputs": [
    {
     "name": "stdout",
     "output_type": "stream",
     "text": [
      "=====> LengthofMenses\n"
     ]
    },
    {
     "data": {
      "text/plain": [
       "        4\n",
       "10      4\n",
       "11      1\n",
       "15      1\n",
       "2      21\n",
       "3      63\n",
       "4     346\n",
       "5     629\n",
       "6     380\n",
       "7     155\n",
       "8      41\n",
       "9      20\n",
       "Name: LengthofMenses, dtype: int64"
      ]
     },
     "metadata": {},
     "output_type": "display_data"
    }
   ],
   "source": [
    "# Display the unique values in this column and counts for each answer\n",
    "print(\"=====> LengthofMenses\")\n",
    "display(data[\"LengthofMenses\"].value_counts().sort_index())"
   ]
  },
  {
   "cell_type": "code",
   "execution_count": 147,
   "metadata": {},
   "outputs": [
    {
     "name": "stdout",
     "output_type": "stream",
     "text": [
      "=====>  Are there any NaN values in the \"LengthofMenses\" column of the dataset that need to be removed?\n"
     ]
    },
    {
     "data": {
      "text/plain": [
       "False    1665\n",
       "Name: LengthofMenses, dtype: int64"
      ]
     },
     "metadata": {},
     "output_type": "display_data"
    },
    {
     "name": "stdout",
     "output_type": "stream",
     "text": [
      "\n",
      "\n",
      "=====>  Are there any missing values in the \"LengthofMenses\" column of the dataset that need to be removed?\n",
      "ClientID:\n",
      " 1107     \n",
      "1298     \n",
      "1340     \n",
      "1664     \n",
      "Name: LengthofMenses, dtype: object\n"
     ]
    }
   ],
   "source": [
    "# Display isna() values\n",
    "print(\"=====>  Are there any NaN values in the \\\"LengthofMenses\\\" column of the dataset that need to be removed?\")\n",
    "display(data[\"LengthofMenses\"].isna().value_counts())\n",
    "\n",
    "# Display spacebar values\n",
    "print(\"\\n\\n=====>  Are there any missing values in the \\\"LengthofMenses\\\" column of the dataset that need to be removed?\")\n",
    "filtered_data = data.loc[data[\"LengthofMenses\"].str.contains(\" \")]\n",
    "print(\"ClientID:\\n\", filtered_data[\"LengthofMenses\"])"
   ]
  },
  {
   "cell_type": "code",
   "execution_count": 148,
   "metadata": {},
   "outputs": [
    {
     "name": "stdout",
     "output_type": "stream",
     "text": [
      "ClientID:\n",
      " Series([], Name: LengthofMenses, dtype: object)\n"
     ]
    }
   ],
   "source": [
    "# Now that we have identified the missing values, we need to drop those row values\n",
    "data = data.drop(data[data[\"LengthofMenses\"] == \" \"].index)\n",
    "\n",
    "# Display spacebar values again, to ensure they have been removed\n",
    "filtered_data = data.loc[data[\"LengthofMenses\"].str.contains(\" \")]\n",
    "print(\"ClientID:\\n\", filtered_data[\"LengthofMenses\"])"
   ]
  },
  {
   "cell_type": "code",
   "execution_count": 149,
   "metadata": {},
   "outputs": [
    {
     "name": "stdout",
     "output_type": "stream",
     "text": [
      "Dataset size: (1661, 80)\n"
     ]
    }
   ],
   "source": [
    "# Review the dataset size again, it should be 4 less\n",
    "print(\"Dataset size: \" + str(data.shape))"
   ]
  },
  {
   "cell_type": "markdown",
   "metadata": {},
   "source": [
    "### 3.2) Exploring the `Miscarriages` variable\n",
    "\n",
    "_Using the isna() function and further methods, it is determined there are 1522 missing values in the column that were removed from the study._"
   ]
  },
  {
   "cell_type": "code",
   "execution_count": 150,
   "metadata": {},
   "outputs": [
    {
     "name": "stdout",
     "output_type": "stream",
     "text": [
      "=====> Miscarriages\n"
     ]
    },
    {
     "data": {
      "text/plain": [
       "     1522\n",
       "0     107\n",
       "1      23\n",
       "2       6\n",
       "3       1\n",
       "4       2\n",
       "Name: Miscarriages, dtype: int64"
      ]
     },
     "metadata": {},
     "output_type": "display_data"
    }
   ],
   "source": [
    "# Display the unique values in this column and counts for each answer\n",
    "print(\"=====> Miscarriages\")\n",
    "display(data[\"Miscarriages\"].value_counts().sort_index())"
   ]
  },
  {
   "cell_type": "code",
   "execution_count": 151,
   "metadata": {},
   "outputs": [
    {
     "name": "stdout",
     "output_type": "stream",
     "text": [
      "=====>  Are there any NaN values in the \"Miscarriages\" column of the dataset that need to be removed?\n"
     ]
    },
    {
     "data": {
      "text/plain": [
       "False    1661\n",
       "Name: Miscarriages, dtype: int64"
      ]
     },
     "metadata": {},
     "output_type": "display_data"
    },
    {
     "name": "stdout",
     "output_type": "stream",
     "text": [
      "\n",
      "\n",
      "=====>  Are there any missing values in the \"Miscarriages\" column of the dataset that need to be removed?\n",
      "     1522\n",
      "Name: Miscarriages, dtype: int64\n"
     ]
    }
   ],
   "source": [
    "# Display isna() values\n",
    "print(\"=====>  Are there any NaN values in the \\\"Miscarriages\\\" column of the dataset that need to be removed?\")\n",
    "display(data[\"Miscarriages\"].isna().value_counts())\n",
    "\n",
    "# Display spacebar values\n",
    "print(\"\\n\\n=====>  Are there any missing values in the \\\"Miscarriages\\\" column of the dataset that need to be removed?\")\n",
    "filtered_data = data.loc[data[\"Miscarriages\"].str.contains(\" \")]\n",
    "print(filtered_data[\"Miscarriages\"].value_counts())"
   ]
  },
  {
   "cell_type": "code",
   "execution_count": 152,
   "metadata": {},
   "outputs": [
    {
     "name": "stdout",
     "output_type": "stream",
     "text": [
      "ClientID:\n",
      " Series([], Name: Miscarriages, dtype: object)\n"
     ]
    }
   ],
   "source": [
    "# Now that we have identified the missing values, we need to drop those row values\n",
    "data = data.drop(data[data[\"Miscarriages\"] == \" \"].index)\n",
    "\n",
    "# Display spacebar values again, to ensure they have been removed\n",
    "filtered_data = data.loc[data[\"Miscarriages\"].str.contains(\" \")]\n",
    "print(\"ClientID:\\n\", filtered_data[\"Miscarriages\"])"
   ]
  },
  {
   "cell_type": "code",
   "execution_count": 153,
   "metadata": {},
   "outputs": [
    {
     "name": "stdout",
     "output_type": "stream",
     "text": [
      "  LengthofMenses   0   1  2  3  4\n",
      "0             15   1   0  0  0  0\n",
      "1              2   1   0  0  0  0\n",
      "2              3   1   0  1  0  0\n",
      "3              4  20   4  1  1  0\n",
      "4              5  36  10  2  0  2\n",
      "5              6  29   6  2  0  0\n",
      "6              7  11   1  0  0  0\n",
      "7              8   6   2  0  0  0\n",
      "8              9   2   0  0  0  0\n"
     ]
    }
   ],
   "source": [
    "# We are left with 139 rows of data containing data on Miscarriages and LengthofMenses\n",
    "# Display the number of miscarriages for each LengthofMenses value_count()\n",
    "\n",
    "result = data.groupby(\"LengthofMenses\")[\"Miscarriages\"].value_counts().unstack(fill_value=0)\n",
    "\n",
    "# Reformat the DataFrame to display the desired output format\n",
    "output = result.rename_axis(columns=\"Miscarriages\").reset_index()\n",
    "output.columns.name = None  # Remove the column name for better display\n",
    "\n",
    "# Sort output by 'LengthofMenses'\n",
    "output = output.sort_values(by=\"LengthofMenses\")\n",
    "\n",
    "print(output)"
   ]
  },
  {
   "cell_type": "markdown",
   "metadata": {},
   "source": [
    "### 3.3) Exploring the `BMI` variable\n",
    "\n",
    "_Using the isna() function and further methods, it is determined there are XXX missing values in the column that were removed from the study._"
   ]
  },
  {
   "cell_type": "code",
   "execution_count": 154,
   "metadata": {},
   "outputs": [
    {
     "name": "stdout",
     "output_type": "stream",
     "text": [
      "=====> BMI\n"
     ]
    },
    {
     "data": {
      "text/plain": [
       "                    11\n",
       "16.8266565885614     1\n",
       "18.0095789708176     1\n",
       "18.7750062988158     1\n",
       "18.7926041434618     1\n",
       "18.8520761245675     1\n",
       "18.8822314049587     1\n",
       "19.1955471539593     1\n",
       "19.366391184573      1\n",
       "19.4602076124567     1\n",
       "19.6484815909702     1\n",
       "19.737548828125      2\n",
       "19.9338374291115     1\n",
       "19.9668639053254     1\n",
       "20.0263370061811     1\n",
       "20.1170655567118     1\n",
       "20.1733241505969     1\n",
       "20.3768115942029     1\n",
       "20.4660355029586     1\n",
       "20.4828303850156     1\n",
       "20.4960973370064     1\n",
       "20.524437716263      2\n",
       "20.5462333081381     1\n",
       "20.595703125         2\n",
       "20.671864557808      2\n",
       "20.8030612244898     1\n",
       "20.93896484375       1\n",
       "20.9465306122449     1\n",
       "21.0314776274714     1\n",
       "21.1416796613945     1\n",
       "21.254724111867      2\n",
       "21.2822265625        1\n",
       "21.453857421875      1\n",
       "21.4548897304522     1\n",
       "21.6089695137314     1\n",
       "21.6307692307692     1\n",
       "21.9247048340388     1\n",
       "21.945889698231      1\n",
       "21.9485766758494     1\n",
       "22.1099632690542     1\n",
       "22.1487082545684     1\n",
       "22.1967993079585     1\n",
       "22.2616666666667     1\n",
       "22.31201171875       2\n",
       "22.4627218934911     2\n",
       "22.524693877551      1\n",
       "22.6291124260355     1\n",
       "22.8603017689906     1\n",
       "22.8869985297206     1\n",
       "23.0259511211892     1\n",
       "23.170166015625      2\n",
       "23.4907551793272     1\n",
       "23.5650951557093     1\n",
       "24.1028571428571     1\n",
       "24.1266272189349     1\n",
       "24.1385030864198     1\n",
       "24.3252595155709     1\n",
       "24.3635790800252     2\n",
       "24.4363688595231     1\n",
       "24.6891259105099     1\n",
       "24.7971781305115     2\n",
       "24.9585798816568     1\n",
       "25.1018693551775     1\n",
       "25.102162269391      1\n",
       "25.2913609467456     2\n",
       "25.6827916351726     1\n",
       "25.74462890625       1\n",
       "25.7864203954214     1\n",
       "25.7905325443787     1\n",
       "25.821854912764      2\n",
       "25.8244897959184     1\n",
       "25.83983069726       1\n",
       "25.8455882352941     2\n",
       "26.2539500143637     1\n",
       "26.5179500520291     1\n",
       "26.6224852071006     1\n",
       "26.6228558699042     1\n",
       "26.6287878787879     1\n",
       "26.788875739645      1\n",
       "27.4058810425485     1\n",
       "27.4540186444948     1\n",
       "27.8912914104344     2\n",
       "27.9765306122449     2\n",
       "28.1260813148789     2\n",
       "28.339632149156      1\n",
       "28.8882001836547     1\n",
       "29.0495867768595     2\n",
       "29.17724609375       3\n",
       "29.2851414568946     1\n",
       "29.8565197428834     1\n",
       "29.9502958579882     2\n",
       "30.1108591584782     1\n",
       "30.2680555555556     1\n",
       "30.6634527089073     1\n",
       "31.4776119402985     1\n",
       "33.4695496925213     1\n",
       "34.326171875         1\n",
       "34.5647762747138     1\n",
       "34.7476586888658     1\n",
       "34.7756213017751     1\n",
       "35.424540186445      1\n",
       "35.4791883454735     1\n",
       "36.72900390625       1\n",
       "37.1027777777778     1\n",
       "37.7587890625        1\n",
       "38.3910943079185     1\n",
       "38.9669942050894     1\n",
       "43.2516069788797     1\n",
       "49.9171597633136     1\n",
       "Name: BMI, dtype: int64"
      ]
     },
     "metadata": {},
     "output_type": "display_data"
    }
   ],
   "source": [
    "# Display the unique values in this column and counts for each answer\n",
    "print(\"=====> BMI\")\n",
    "display(data[\"BMI\"].value_counts().sort_index())"
   ]
  },
  {
   "cell_type": "code",
   "execution_count": 155,
   "metadata": {},
   "outputs": [
    {
     "name": "stdout",
     "output_type": "stream",
     "text": [
      "(139, 80)\n"
     ]
    }
   ],
   "source": [
    "print(data.shape)"
   ]
  },
  {
   "cell_type": "code",
   "execution_count": 156,
   "metadata": {},
   "outputs": [
    {
     "name": "stdout",
     "output_type": "stream",
     "text": [
      "=====>  Are there any NaN values in the \"BMI\" column of the dataset that need to be removed?\n"
     ]
    },
    {
     "data": {
      "text/plain": [
       "False    139\n",
       "Name: BMI, dtype: int64"
      ]
     },
     "metadata": {},
     "output_type": "display_data"
    },
    {
     "name": "stdout",
     "output_type": "stream",
     "text": [
      "\n",
      "\n",
      "=====>  Are there any missing values in the \"BMI\" column of the dataset that need to be removed?\n",
      "ClientID:\n",
      "      11\n",
      "Name: BMI, dtype: int64\n"
     ]
    }
   ],
   "source": [
    "# Display isna() values\n",
    "print(\"=====>  Are there any NaN values in the \\\"BMI\\\" column of the dataset that need to be removed?\")\n",
    "display(data[\"BMI\"].isna().value_counts())\n",
    "\n",
    "# Display spacebar values\n",
    "print(\"\\n\\n=====>  Are there any missing values in the \\\"BMI\\\" column of the dataset that need to be removed?\")\n",
    "filtered_data = data.loc[data[\"BMI\"].str.contains(\" \")]\n",
    "print(\"ClientID:\\n\", filtered_data[\"BMI\"].value_counts())"
   ]
  },
  {
   "cell_type": "code",
   "execution_count": null,
   "metadata": {},
   "outputs": [],
   "source": []
  }
 ],
 "metadata": {
  "kernelspec": {
   "display_name": "Python 3",
   "language": "python",
   "name": "python3"
  },
  "language_info": {
   "codemirror_mode": {
    "name": "ipython",
    "version": 3
   },
   "file_extension": ".py",
   "mimetype": "text/x-python",
   "name": "python",
   "nbconvert_exporter": "python",
   "pygments_lexer": "ipython3",
   "version": "3.9.1"
  }
 },
 "nbformat": 4,
 "nbformat_minor": 4
}
